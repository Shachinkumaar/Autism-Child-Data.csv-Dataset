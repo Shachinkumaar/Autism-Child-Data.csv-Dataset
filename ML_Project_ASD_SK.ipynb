{
 "cells": [
  {
   "cell_type": "code",
   "execution_count": 1,
   "id": "750f6ee0",
   "metadata": {},
   "outputs": [],
   "source": [
    "import pandas as pd \n",
    "import numpy as np\n"
   ]
  },
  {
   "cell_type": "code",
   "execution_count": 2,
   "id": "9a5804e7",
   "metadata": {},
   "outputs": [],
   "source": [
    "dataset=pd.read_csv('csv_result-Autism-Child-Data.csv')"
   ]
  },
  {
   "cell_type": "code",
   "execution_count": 3,
   "id": "5e3211bc",
   "metadata": {},
   "outputs": [
    {
     "data": {
      "text/html": [
       "<div>\n",
       "<style scoped>\n",
       "    .dataframe tbody tr th:only-of-type {\n",
       "        vertical-align: middle;\n",
       "    }\n",
       "\n",
       "    .dataframe tbody tr th {\n",
       "        vertical-align: top;\n",
       "    }\n",
       "\n",
       "    .dataframe thead th {\n",
       "        text-align: right;\n",
       "    }\n",
       "</style>\n",
       "<table border=\"1\" class=\"dataframe\">\n",
       "  <thead>\n",
       "    <tr style=\"text-align: right;\">\n",
       "      <th></th>\n",
       "      <th>id</th>\n",
       "      <th>A1_Score</th>\n",
       "      <th>A2_Score</th>\n",
       "      <th>A3_Score</th>\n",
       "      <th>A4_Score</th>\n",
       "      <th>A5_Score</th>\n",
       "      <th>A6_Score</th>\n",
       "      <th>A7_Score</th>\n",
       "      <th>A8_Score</th>\n",
       "      <th>A9_Score</th>\n",
       "      <th>...</th>\n",
       "      <th>gender</th>\n",
       "      <th>ethnicity</th>\n",
       "      <th>jundice</th>\n",
       "      <th>austim</th>\n",
       "      <th>contry_of_res</th>\n",
       "      <th>used_app_before</th>\n",
       "      <th>result</th>\n",
       "      <th>age_desc</th>\n",
       "      <th>relation</th>\n",
       "      <th>Class/ASD</th>\n",
       "    </tr>\n",
       "  </thead>\n",
       "  <tbody>\n",
       "    <tr>\n",
       "      <th>0</th>\n",
       "      <td>1</td>\n",
       "      <td>1</td>\n",
       "      <td>1</td>\n",
       "      <td>0</td>\n",
       "      <td>0</td>\n",
       "      <td>1</td>\n",
       "      <td>1</td>\n",
       "      <td>0</td>\n",
       "      <td>1</td>\n",
       "      <td>0</td>\n",
       "      <td>...</td>\n",
       "      <td>m</td>\n",
       "      <td>Others</td>\n",
       "      <td>no</td>\n",
       "      <td>no</td>\n",
       "      <td>Jordan</td>\n",
       "      <td>no</td>\n",
       "      <td>5</td>\n",
       "      <td>4-11 years</td>\n",
       "      <td>Parent</td>\n",
       "      <td>NO</td>\n",
       "    </tr>\n",
       "    <tr>\n",
       "      <th>1</th>\n",
       "      <td>2</td>\n",
       "      <td>1</td>\n",
       "      <td>1</td>\n",
       "      <td>0</td>\n",
       "      <td>0</td>\n",
       "      <td>1</td>\n",
       "      <td>1</td>\n",
       "      <td>0</td>\n",
       "      <td>1</td>\n",
       "      <td>0</td>\n",
       "      <td>...</td>\n",
       "      <td>m</td>\n",
       "      <td>Middle Eastern</td>\n",
       "      <td>no</td>\n",
       "      <td>no</td>\n",
       "      <td>Jordan</td>\n",
       "      <td>no</td>\n",
       "      <td>5</td>\n",
       "      <td>4-11 years</td>\n",
       "      <td>Parent</td>\n",
       "      <td>NO</td>\n",
       "    </tr>\n",
       "    <tr>\n",
       "      <th>2</th>\n",
       "      <td>3</td>\n",
       "      <td>1</td>\n",
       "      <td>1</td>\n",
       "      <td>0</td>\n",
       "      <td>0</td>\n",
       "      <td>0</td>\n",
       "      <td>1</td>\n",
       "      <td>1</td>\n",
       "      <td>1</td>\n",
       "      <td>0</td>\n",
       "      <td>...</td>\n",
       "      <td>m</td>\n",
       "      <td>?</td>\n",
       "      <td>no</td>\n",
       "      <td>no</td>\n",
       "      <td>Jordan</td>\n",
       "      <td>yes</td>\n",
       "      <td>5</td>\n",
       "      <td>4-11 years</td>\n",
       "      <td>?</td>\n",
       "      <td>NO</td>\n",
       "    </tr>\n",
       "    <tr>\n",
       "      <th>3</th>\n",
       "      <td>4</td>\n",
       "      <td>0</td>\n",
       "      <td>1</td>\n",
       "      <td>0</td>\n",
       "      <td>0</td>\n",
       "      <td>1</td>\n",
       "      <td>1</td>\n",
       "      <td>0</td>\n",
       "      <td>0</td>\n",
       "      <td>0</td>\n",
       "      <td>...</td>\n",
       "      <td>f</td>\n",
       "      <td>?</td>\n",
       "      <td>yes</td>\n",
       "      <td>no</td>\n",
       "      <td>Jordan</td>\n",
       "      <td>no</td>\n",
       "      <td>4</td>\n",
       "      <td>4-11 years</td>\n",
       "      <td>?</td>\n",
       "      <td>NO</td>\n",
       "    </tr>\n",
       "    <tr>\n",
       "      <th>4</th>\n",
       "      <td>5</td>\n",
       "      <td>1</td>\n",
       "      <td>1</td>\n",
       "      <td>1</td>\n",
       "      <td>1</td>\n",
       "      <td>1</td>\n",
       "      <td>1</td>\n",
       "      <td>1</td>\n",
       "      <td>1</td>\n",
       "      <td>1</td>\n",
       "      <td>...</td>\n",
       "      <td>m</td>\n",
       "      <td>Others</td>\n",
       "      <td>yes</td>\n",
       "      <td>no</td>\n",
       "      <td>United States</td>\n",
       "      <td>no</td>\n",
       "      <td>10</td>\n",
       "      <td>4-11 years</td>\n",
       "      <td>Parent</td>\n",
       "      <td>YES</td>\n",
       "    </tr>\n",
       "    <tr>\n",
       "      <th>...</th>\n",
       "      <td>...</td>\n",
       "      <td>...</td>\n",
       "      <td>...</td>\n",
       "      <td>...</td>\n",
       "      <td>...</td>\n",
       "      <td>...</td>\n",
       "      <td>...</td>\n",
       "      <td>...</td>\n",
       "      <td>...</td>\n",
       "      <td>...</td>\n",
       "      <td>...</td>\n",
       "      <td>...</td>\n",
       "      <td>...</td>\n",
       "      <td>...</td>\n",
       "      <td>...</td>\n",
       "      <td>...</td>\n",
       "      <td>...</td>\n",
       "      <td>...</td>\n",
       "      <td>...</td>\n",
       "      <td>...</td>\n",
       "      <td>...</td>\n",
       "    </tr>\n",
       "    <tr>\n",
       "      <th>287</th>\n",
       "      <td>288</td>\n",
       "      <td>1</td>\n",
       "      <td>1</td>\n",
       "      <td>1</td>\n",
       "      <td>1</td>\n",
       "      <td>1</td>\n",
       "      <td>1</td>\n",
       "      <td>1</td>\n",
       "      <td>1</td>\n",
       "      <td>1</td>\n",
       "      <td>...</td>\n",
       "      <td>f</td>\n",
       "      <td>White-European</td>\n",
       "      <td>yes</td>\n",
       "      <td>yes</td>\n",
       "      <td>United Kingdom</td>\n",
       "      <td>no</td>\n",
       "      <td>10</td>\n",
       "      <td>4-11 years</td>\n",
       "      <td>Parent</td>\n",
       "      <td>YES</td>\n",
       "    </tr>\n",
       "    <tr>\n",
       "      <th>288</th>\n",
       "      <td>289</td>\n",
       "      <td>1</td>\n",
       "      <td>0</td>\n",
       "      <td>0</td>\n",
       "      <td>0</td>\n",
       "      <td>1</td>\n",
       "      <td>0</td>\n",
       "      <td>1</td>\n",
       "      <td>0</td>\n",
       "      <td>0</td>\n",
       "      <td>...</td>\n",
       "      <td>f</td>\n",
       "      <td>White-European</td>\n",
       "      <td>yes</td>\n",
       "      <td>yes</td>\n",
       "      <td>Australia</td>\n",
       "      <td>no</td>\n",
       "      <td>4</td>\n",
       "      <td>4-11 years</td>\n",
       "      <td>Parent</td>\n",
       "      <td>NO</td>\n",
       "    </tr>\n",
       "    <tr>\n",
       "      <th>289</th>\n",
       "      <td>290</td>\n",
       "      <td>1</td>\n",
       "      <td>0</td>\n",
       "      <td>1</td>\n",
       "      <td>1</td>\n",
       "      <td>1</td>\n",
       "      <td>1</td>\n",
       "      <td>1</td>\n",
       "      <td>0</td>\n",
       "      <td>0</td>\n",
       "      <td>...</td>\n",
       "      <td>m</td>\n",
       "      <td>Latino</td>\n",
       "      <td>no</td>\n",
       "      <td>no</td>\n",
       "      <td>Brazil</td>\n",
       "      <td>no</td>\n",
       "      <td>7</td>\n",
       "      <td>4-11 years</td>\n",
       "      <td>Parent</td>\n",
       "      <td>YES</td>\n",
       "    </tr>\n",
       "    <tr>\n",
       "      <th>290</th>\n",
       "      <td>291</td>\n",
       "      <td>1</td>\n",
       "      <td>1</td>\n",
       "      <td>1</td>\n",
       "      <td>0</td>\n",
       "      <td>1</td>\n",
       "      <td>1</td>\n",
       "      <td>1</td>\n",
       "      <td>1</td>\n",
       "      <td>1</td>\n",
       "      <td>...</td>\n",
       "      <td>m</td>\n",
       "      <td>South Asian</td>\n",
       "      <td>no</td>\n",
       "      <td>no</td>\n",
       "      <td>India</td>\n",
       "      <td>no</td>\n",
       "      <td>9</td>\n",
       "      <td>4-11 years</td>\n",
       "      <td>Parent</td>\n",
       "      <td>YES</td>\n",
       "    </tr>\n",
       "    <tr>\n",
       "      <th>291</th>\n",
       "      <td>292</td>\n",
       "      <td>0</td>\n",
       "      <td>0</td>\n",
       "      <td>1</td>\n",
       "      <td>0</td>\n",
       "      <td>1</td>\n",
       "      <td>0</td>\n",
       "      <td>1</td>\n",
       "      <td>0</td>\n",
       "      <td>0</td>\n",
       "      <td>...</td>\n",
       "      <td>f</td>\n",
       "      <td>South Asian</td>\n",
       "      <td>no</td>\n",
       "      <td>no</td>\n",
       "      <td>India</td>\n",
       "      <td>no</td>\n",
       "      <td>3</td>\n",
       "      <td>4-11 years</td>\n",
       "      <td>Parent</td>\n",
       "      <td>NO</td>\n",
       "    </tr>\n",
       "  </tbody>\n",
       "</table>\n",
       "<p>292 rows × 22 columns</p>\n",
       "</div>"
      ],
      "text/plain": [
       "      id  A1_Score  A2_Score  A3_Score  A4_Score  A5_Score  A6_Score  \\\n",
       "0      1         1         1         0         0         1         1   \n",
       "1      2         1         1         0         0         1         1   \n",
       "2      3         1         1         0         0         0         1   \n",
       "3      4         0         1         0         0         1         1   \n",
       "4      5         1         1         1         1         1         1   \n",
       "..   ...       ...       ...       ...       ...       ...       ...   \n",
       "287  288         1         1         1         1         1         1   \n",
       "288  289         1         0         0         0         1         0   \n",
       "289  290         1         0         1         1         1         1   \n",
       "290  291         1         1         1         0         1         1   \n",
       "291  292         0         0         1         0         1         0   \n",
       "\n",
       "     A7_Score  A8_Score  A9_Score  ...  gender        ethnicity jundice  \\\n",
       "0           0         1         0  ...       m           Others      no   \n",
       "1           0         1         0  ...       m  Middle Eastern       no   \n",
       "2           1         1         0  ...       m                ?      no   \n",
       "3           0         0         0  ...       f                ?     yes   \n",
       "4           1         1         1  ...       m           Others     yes   \n",
       "..        ...       ...       ...  ...     ...              ...     ...   \n",
       "287         1         1         1  ...       f   White-European     yes   \n",
       "288         1         0         0  ...       f   White-European     yes   \n",
       "289         1         0         0  ...       m           Latino      no   \n",
       "290         1         1         1  ...       m      South Asian      no   \n",
       "291         1         0         0  ...       f      South Asian      no   \n",
       "\n",
       "    austim   contry_of_res used_app_before result    age_desc  relation  \\\n",
       "0       no          Jordan              no      5  4-11 years    Parent   \n",
       "1       no          Jordan              no      5  4-11 years    Parent   \n",
       "2       no          Jordan             yes      5  4-11 years         ?   \n",
       "3       no          Jordan              no      4  4-11 years         ?   \n",
       "4       no   United States              no     10  4-11 years    Parent   \n",
       "..     ...             ...             ...    ...         ...       ...   \n",
       "287    yes  United Kingdom              no     10  4-11 years    Parent   \n",
       "288    yes       Australia              no      4  4-11 years    Parent   \n",
       "289     no          Brazil              no      7  4-11 years    Parent   \n",
       "290     no           India              no      9  4-11 years    Parent   \n",
       "291     no           India              no      3  4-11 years    Parent   \n",
       "\n",
       "    Class/ASD  \n",
       "0          NO  \n",
       "1          NO  \n",
       "2          NO  \n",
       "3          NO  \n",
       "4         YES  \n",
       "..        ...  \n",
       "287       YES  \n",
       "288        NO  \n",
       "289       YES  \n",
       "290       YES  \n",
       "291        NO  \n",
       "\n",
       "[292 rows x 22 columns]"
      ]
     },
     "execution_count": 3,
     "metadata": {},
     "output_type": "execute_result"
    }
   ],
   "source": [
    "dataset"
   ]
  },
  {
   "cell_type": "code",
   "execution_count": 13,
   "id": "9e8ae289",
   "metadata": {},
   "outputs": [],
   "source": [
    "df_1=pd.DataFrame(dataset).copy()\n",
    "df_1.drop(['ethnicity','contry_of_res','age_desc','relation','result','age'],axis=1,inplace=True)"
   ]
  },
  {
   "cell_type": "code",
   "execution_count": 14,
   "id": "fcf5f381",
   "metadata": {},
   "outputs": [],
   "source": [
    "# FOR MAPPING\n",
    "# for jundice (yes=1,no=0),\n",
    "# for austim (yes=1,no=0),\n",
    "# for used_app_before (yes=1,no=0),\n",
    "# for gender (m=1,f=0),\n",
    "# for class/asd (yes=1,no=0)\n",
    "\n",
    "df_1['gender']= df_1['gender'].map({'m':1,'f':0}).astype(int)\n",
    "df_1['jundice']= df_1['jundice'].map({'yes':1,'no':0}).astype(int)\n",
    "df_1['austim']= df_1['austim'].map({'yes':1,'no':0}).astype(int)\n",
    "df_1['used_app_before']= df_1['used_app_before'].map({'yes':1,'no':0}).astype(int)\n",
    "df_1['Class/ASD']= df_1['Class/ASD'].map({'YES':1,'NO':0}).astype(int)\n",
    "\n",
    "\n"
   ]
  },
  {
   "cell_type": "code",
   "execution_count": 7,
   "id": "c917731c",
   "metadata": {},
   "outputs": [
    {
     "name": "stdout",
     "output_type": "stream",
     "text": [
      "<class 'pandas.core.frame.DataFrame'>\n",
      "RangeIndex: 292 entries, 0 to 291\n",
      "Data columns (total 22 columns):\n",
      " #   Column           Non-Null Count  Dtype \n",
      "---  ------           --------------  ----- \n",
      " 0   id               292 non-null    int64 \n",
      " 1   A1_Score         292 non-null    int64 \n",
      " 2   A2_Score         292 non-null    int64 \n",
      " 3   A3_Score         292 non-null    int64 \n",
      " 4   A4_Score         292 non-null    int64 \n",
      " 5   A5_Score         292 non-null    int64 \n",
      " 6   A6_Score         292 non-null    int64 \n",
      " 7   A7_Score         292 non-null    int64 \n",
      " 8   A8_Score         292 non-null    int64 \n",
      " 9   A9_Score         292 non-null    int64 \n",
      " 10  A10_Score        292 non-null    int64 \n",
      " 11  age              292 non-null    object\n",
      " 12  gender           292 non-null    int32 \n",
      " 13  ethnicity        292 non-null    object\n",
      " 14  jundice          292 non-null    int32 \n",
      " 15  austim           292 non-null    int32 \n",
      " 16  contry_of_res    292 non-null    object\n",
      " 17  used_app_before  292 non-null    int32 \n",
      " 18  result           292 non-null    int64 \n",
      " 19  age_desc         292 non-null    object\n",
      " 20  relation         292 non-null    object\n",
      " 21  Class/ASD        292 non-null    int32 \n",
      "dtypes: int32(5), int64(12), object(5)\n",
      "memory usage: 44.6+ KB\n"
     ]
    }
   ],
   "source": [
    "#df_1.info()"
   ]
  },
  {
   "cell_type": "code",
   "execution_count": 15,
   "id": "e30ddd66",
   "metadata": {},
   "outputs": [
    {
     "data": {
      "text/html": [
       "<div>\n",
       "<style scoped>\n",
       "    .dataframe tbody tr th:only-of-type {\n",
       "        vertical-align: middle;\n",
       "    }\n",
       "\n",
       "    .dataframe tbody tr th {\n",
       "        vertical-align: top;\n",
       "    }\n",
       "\n",
       "    .dataframe thead th {\n",
       "        text-align: right;\n",
       "    }\n",
       "</style>\n",
       "<table border=\"1\" class=\"dataframe\">\n",
       "  <thead>\n",
       "    <tr style=\"text-align: right;\">\n",
       "      <th></th>\n",
       "      <th>id</th>\n",
       "      <th>A1_Score</th>\n",
       "      <th>A2_Score</th>\n",
       "      <th>A3_Score</th>\n",
       "      <th>A4_Score</th>\n",
       "      <th>A5_Score</th>\n",
       "      <th>A6_Score</th>\n",
       "      <th>A7_Score</th>\n",
       "      <th>A8_Score</th>\n",
       "      <th>A9_Score</th>\n",
       "      <th>A10_Score</th>\n",
       "      <th>gender</th>\n",
       "      <th>jundice</th>\n",
       "      <th>austim</th>\n",
       "      <th>used_app_before</th>\n",
       "      <th>Class/ASD</th>\n",
       "    </tr>\n",
       "  </thead>\n",
       "  <tbody>\n",
       "    <tr>\n",
       "      <th>0</th>\n",
       "      <td>1</td>\n",
       "      <td>1</td>\n",
       "      <td>1</td>\n",
       "      <td>0</td>\n",
       "      <td>0</td>\n",
       "      <td>1</td>\n",
       "      <td>1</td>\n",
       "      <td>0</td>\n",
       "      <td>1</td>\n",
       "      <td>0</td>\n",
       "      <td>0</td>\n",
       "      <td>1</td>\n",
       "      <td>0</td>\n",
       "      <td>0</td>\n",
       "      <td>0</td>\n",
       "      <td>0</td>\n",
       "    </tr>\n",
       "    <tr>\n",
       "      <th>1</th>\n",
       "      <td>2</td>\n",
       "      <td>1</td>\n",
       "      <td>1</td>\n",
       "      <td>0</td>\n",
       "      <td>0</td>\n",
       "      <td>1</td>\n",
       "      <td>1</td>\n",
       "      <td>0</td>\n",
       "      <td>1</td>\n",
       "      <td>0</td>\n",
       "      <td>0</td>\n",
       "      <td>1</td>\n",
       "      <td>0</td>\n",
       "      <td>0</td>\n",
       "      <td>0</td>\n",
       "      <td>0</td>\n",
       "    </tr>\n",
       "    <tr>\n",
       "      <th>2</th>\n",
       "      <td>3</td>\n",
       "      <td>1</td>\n",
       "      <td>1</td>\n",
       "      <td>0</td>\n",
       "      <td>0</td>\n",
       "      <td>0</td>\n",
       "      <td>1</td>\n",
       "      <td>1</td>\n",
       "      <td>1</td>\n",
       "      <td>0</td>\n",
       "      <td>0</td>\n",
       "      <td>1</td>\n",
       "      <td>0</td>\n",
       "      <td>0</td>\n",
       "      <td>1</td>\n",
       "      <td>0</td>\n",
       "    </tr>\n",
       "    <tr>\n",
       "      <th>3</th>\n",
       "      <td>4</td>\n",
       "      <td>0</td>\n",
       "      <td>1</td>\n",
       "      <td>0</td>\n",
       "      <td>0</td>\n",
       "      <td>1</td>\n",
       "      <td>1</td>\n",
       "      <td>0</td>\n",
       "      <td>0</td>\n",
       "      <td>0</td>\n",
       "      <td>1</td>\n",
       "      <td>0</td>\n",
       "      <td>1</td>\n",
       "      <td>0</td>\n",
       "      <td>0</td>\n",
       "      <td>0</td>\n",
       "    </tr>\n",
       "    <tr>\n",
       "      <th>4</th>\n",
       "      <td>5</td>\n",
       "      <td>1</td>\n",
       "      <td>1</td>\n",
       "      <td>1</td>\n",
       "      <td>1</td>\n",
       "      <td>1</td>\n",
       "      <td>1</td>\n",
       "      <td>1</td>\n",
       "      <td>1</td>\n",
       "      <td>1</td>\n",
       "      <td>1</td>\n",
       "      <td>1</td>\n",
       "      <td>1</td>\n",
       "      <td>0</td>\n",
       "      <td>0</td>\n",
       "      <td>1</td>\n",
       "    </tr>\n",
       "    <tr>\n",
       "      <th>...</th>\n",
       "      <td>...</td>\n",
       "      <td>...</td>\n",
       "      <td>...</td>\n",
       "      <td>...</td>\n",
       "      <td>...</td>\n",
       "      <td>...</td>\n",
       "      <td>...</td>\n",
       "      <td>...</td>\n",
       "      <td>...</td>\n",
       "      <td>...</td>\n",
       "      <td>...</td>\n",
       "      <td>...</td>\n",
       "      <td>...</td>\n",
       "      <td>...</td>\n",
       "      <td>...</td>\n",
       "      <td>...</td>\n",
       "    </tr>\n",
       "    <tr>\n",
       "      <th>287</th>\n",
       "      <td>288</td>\n",
       "      <td>1</td>\n",
       "      <td>1</td>\n",
       "      <td>1</td>\n",
       "      <td>1</td>\n",
       "      <td>1</td>\n",
       "      <td>1</td>\n",
       "      <td>1</td>\n",
       "      <td>1</td>\n",
       "      <td>1</td>\n",
       "      <td>1</td>\n",
       "      <td>0</td>\n",
       "      <td>1</td>\n",
       "      <td>1</td>\n",
       "      <td>0</td>\n",
       "      <td>1</td>\n",
       "    </tr>\n",
       "    <tr>\n",
       "      <th>288</th>\n",
       "      <td>289</td>\n",
       "      <td>1</td>\n",
       "      <td>0</td>\n",
       "      <td>0</td>\n",
       "      <td>0</td>\n",
       "      <td>1</td>\n",
       "      <td>0</td>\n",
       "      <td>1</td>\n",
       "      <td>0</td>\n",
       "      <td>0</td>\n",
       "      <td>1</td>\n",
       "      <td>0</td>\n",
       "      <td>1</td>\n",
       "      <td>1</td>\n",
       "      <td>0</td>\n",
       "      <td>0</td>\n",
       "    </tr>\n",
       "    <tr>\n",
       "      <th>289</th>\n",
       "      <td>290</td>\n",
       "      <td>1</td>\n",
       "      <td>0</td>\n",
       "      <td>1</td>\n",
       "      <td>1</td>\n",
       "      <td>1</td>\n",
       "      <td>1</td>\n",
       "      <td>1</td>\n",
       "      <td>0</td>\n",
       "      <td>0</td>\n",
       "      <td>1</td>\n",
       "      <td>1</td>\n",
       "      <td>0</td>\n",
       "      <td>0</td>\n",
       "      <td>0</td>\n",
       "      <td>1</td>\n",
       "    </tr>\n",
       "    <tr>\n",
       "      <th>290</th>\n",
       "      <td>291</td>\n",
       "      <td>1</td>\n",
       "      <td>1</td>\n",
       "      <td>1</td>\n",
       "      <td>0</td>\n",
       "      <td>1</td>\n",
       "      <td>1</td>\n",
       "      <td>1</td>\n",
       "      <td>1</td>\n",
       "      <td>1</td>\n",
       "      <td>1</td>\n",
       "      <td>1</td>\n",
       "      <td>0</td>\n",
       "      <td>0</td>\n",
       "      <td>0</td>\n",
       "      <td>1</td>\n",
       "    </tr>\n",
       "    <tr>\n",
       "      <th>291</th>\n",
       "      <td>292</td>\n",
       "      <td>0</td>\n",
       "      <td>0</td>\n",
       "      <td>1</td>\n",
       "      <td>0</td>\n",
       "      <td>1</td>\n",
       "      <td>0</td>\n",
       "      <td>1</td>\n",
       "      <td>0</td>\n",
       "      <td>0</td>\n",
       "      <td>0</td>\n",
       "      <td>0</td>\n",
       "      <td>0</td>\n",
       "      <td>0</td>\n",
       "      <td>0</td>\n",
       "      <td>0</td>\n",
       "    </tr>\n",
       "  </tbody>\n",
       "</table>\n",
       "<p>292 rows × 16 columns</p>\n",
       "</div>"
      ],
      "text/plain": [
       "      id  A1_Score  A2_Score  A3_Score  A4_Score  A5_Score  A6_Score  \\\n",
       "0      1         1         1         0         0         1         1   \n",
       "1      2         1         1         0         0         1         1   \n",
       "2      3         1         1         0         0         0         1   \n",
       "3      4         0         1         0         0         1         1   \n",
       "4      5         1         1         1         1         1         1   \n",
       "..   ...       ...       ...       ...       ...       ...       ...   \n",
       "287  288         1         1         1         1         1         1   \n",
       "288  289         1         0         0         0         1         0   \n",
       "289  290         1         0         1         1         1         1   \n",
       "290  291         1         1         1         0         1         1   \n",
       "291  292         0         0         1         0         1         0   \n",
       "\n",
       "     A7_Score  A8_Score  A9_Score  A10_Score  gender  jundice  austim  \\\n",
       "0           0         1         0          0       1        0       0   \n",
       "1           0         1         0          0       1        0       0   \n",
       "2           1         1         0          0       1        0       0   \n",
       "3           0         0         0          1       0        1       0   \n",
       "4           1         1         1          1       1        1       0   \n",
       "..        ...       ...       ...        ...     ...      ...     ...   \n",
       "287         1         1         1          1       0        1       1   \n",
       "288         1         0         0          1       0        1       1   \n",
       "289         1         0         0          1       1        0       0   \n",
       "290         1         1         1          1       1        0       0   \n",
       "291         1         0         0          0       0        0       0   \n",
       "\n",
       "     used_app_before  Class/ASD  \n",
       "0                  0          0  \n",
       "1                  0          0  \n",
       "2                  1          0  \n",
       "3                  0          0  \n",
       "4                  0          1  \n",
       "..               ...        ...  \n",
       "287                0          1  \n",
       "288                0          0  \n",
       "289                0          1  \n",
       "290                0          1  \n",
       "291                0          0  \n",
       "\n",
       "[292 rows x 16 columns]"
      ]
     },
     "execution_count": 15,
     "metadata": {},
     "output_type": "execute_result"
    }
   ],
   "source": [
    "df_1"
   ]
  },
  {
   "cell_type": "code",
   "execution_count": 8,
   "id": "843730ad",
   "metadata": {},
   "outputs": [
    {
     "data": {
      "text/html": [
       "<div>\n",
       "<style scoped>\n",
       "    .dataframe tbody tr th:only-of-type {\n",
       "        vertical-align: middle;\n",
       "    }\n",
       "\n",
       "    .dataframe tbody tr th {\n",
       "        vertical-align: top;\n",
       "    }\n",
       "\n",
       "    .dataframe thead th {\n",
       "        text-align: right;\n",
       "    }\n",
       "</style>\n",
       "<table border=\"1\" class=\"dataframe\">\n",
       "  <thead>\n",
       "    <tr style=\"text-align: right;\">\n",
       "      <th></th>\n",
       "      <th>id</th>\n",
       "      <th>A1_Score</th>\n",
       "      <th>A2_Score</th>\n",
       "      <th>A3_Score</th>\n",
       "      <th>A4_Score</th>\n",
       "      <th>A5_Score</th>\n",
       "      <th>A6_Score</th>\n",
       "      <th>A7_Score</th>\n",
       "      <th>A8_Score</th>\n",
       "      <th>A9_Score</th>\n",
       "      <th>A10_Score</th>\n",
       "      <th>gender</th>\n",
       "      <th>jundice</th>\n",
       "      <th>austim</th>\n",
       "      <th>used_app_before</th>\n",
       "      <th>Class/ASD</th>\n",
       "    </tr>\n",
       "  </thead>\n",
       "  <tbody>\n",
       "    <tr>\n",
       "      <th>0</th>\n",
       "      <td>1</td>\n",
       "      <td>1</td>\n",
       "      <td>1</td>\n",
       "      <td>0</td>\n",
       "      <td>0</td>\n",
       "      <td>1</td>\n",
       "      <td>1</td>\n",
       "      <td>0</td>\n",
       "      <td>1</td>\n",
       "      <td>0</td>\n",
       "      <td>0</td>\n",
       "      <td>1</td>\n",
       "      <td>0</td>\n",
       "      <td>0</td>\n",
       "      <td>0</td>\n",
       "      <td>0</td>\n",
       "    </tr>\n",
       "    <tr>\n",
       "      <th>1</th>\n",
       "      <td>2</td>\n",
       "      <td>1</td>\n",
       "      <td>1</td>\n",
       "      <td>0</td>\n",
       "      <td>0</td>\n",
       "      <td>1</td>\n",
       "      <td>1</td>\n",
       "      <td>0</td>\n",
       "      <td>1</td>\n",
       "      <td>0</td>\n",
       "      <td>0</td>\n",
       "      <td>1</td>\n",
       "      <td>0</td>\n",
       "      <td>0</td>\n",
       "      <td>0</td>\n",
       "      <td>0</td>\n",
       "    </tr>\n",
       "    <tr>\n",
       "      <th>2</th>\n",
       "      <td>3</td>\n",
       "      <td>1</td>\n",
       "      <td>1</td>\n",
       "      <td>0</td>\n",
       "      <td>0</td>\n",
       "      <td>0</td>\n",
       "      <td>1</td>\n",
       "      <td>1</td>\n",
       "      <td>1</td>\n",
       "      <td>0</td>\n",
       "      <td>0</td>\n",
       "      <td>1</td>\n",
       "      <td>0</td>\n",
       "      <td>0</td>\n",
       "      <td>1</td>\n",
       "      <td>0</td>\n",
       "    </tr>\n",
       "    <tr>\n",
       "      <th>3</th>\n",
       "      <td>4</td>\n",
       "      <td>0</td>\n",
       "      <td>1</td>\n",
       "      <td>0</td>\n",
       "      <td>0</td>\n",
       "      <td>1</td>\n",
       "      <td>1</td>\n",
       "      <td>0</td>\n",
       "      <td>0</td>\n",
       "      <td>0</td>\n",
       "      <td>1</td>\n",
       "      <td>0</td>\n",
       "      <td>1</td>\n",
       "      <td>0</td>\n",
       "      <td>0</td>\n",
       "      <td>0</td>\n",
       "    </tr>\n",
       "    <tr>\n",
       "      <th>4</th>\n",
       "      <td>5</td>\n",
       "      <td>1</td>\n",
       "      <td>1</td>\n",
       "      <td>1</td>\n",
       "      <td>1</td>\n",
       "      <td>1</td>\n",
       "      <td>1</td>\n",
       "      <td>1</td>\n",
       "      <td>1</td>\n",
       "      <td>1</td>\n",
       "      <td>1</td>\n",
       "      <td>1</td>\n",
       "      <td>1</td>\n",
       "      <td>0</td>\n",
       "      <td>0</td>\n",
       "      <td>1</td>\n",
       "    </tr>\n",
       "    <tr>\n",
       "      <th>...</th>\n",
       "      <td>...</td>\n",
       "      <td>...</td>\n",
       "      <td>...</td>\n",
       "      <td>...</td>\n",
       "      <td>...</td>\n",
       "      <td>...</td>\n",
       "      <td>...</td>\n",
       "      <td>...</td>\n",
       "      <td>...</td>\n",
       "      <td>...</td>\n",
       "      <td>...</td>\n",
       "      <td>...</td>\n",
       "      <td>...</td>\n",
       "      <td>...</td>\n",
       "      <td>...</td>\n",
       "      <td>...</td>\n",
       "    </tr>\n",
       "    <tr>\n",
       "      <th>287</th>\n",
       "      <td>288</td>\n",
       "      <td>1</td>\n",
       "      <td>1</td>\n",
       "      <td>1</td>\n",
       "      <td>1</td>\n",
       "      <td>1</td>\n",
       "      <td>1</td>\n",
       "      <td>1</td>\n",
       "      <td>1</td>\n",
       "      <td>1</td>\n",
       "      <td>1</td>\n",
       "      <td>0</td>\n",
       "      <td>1</td>\n",
       "      <td>1</td>\n",
       "      <td>0</td>\n",
       "      <td>1</td>\n",
       "    </tr>\n",
       "    <tr>\n",
       "      <th>288</th>\n",
       "      <td>289</td>\n",
       "      <td>1</td>\n",
       "      <td>0</td>\n",
       "      <td>0</td>\n",
       "      <td>0</td>\n",
       "      <td>1</td>\n",
       "      <td>0</td>\n",
       "      <td>1</td>\n",
       "      <td>0</td>\n",
       "      <td>0</td>\n",
       "      <td>1</td>\n",
       "      <td>0</td>\n",
       "      <td>1</td>\n",
       "      <td>1</td>\n",
       "      <td>0</td>\n",
       "      <td>0</td>\n",
       "    </tr>\n",
       "    <tr>\n",
       "      <th>289</th>\n",
       "      <td>290</td>\n",
       "      <td>1</td>\n",
       "      <td>0</td>\n",
       "      <td>1</td>\n",
       "      <td>1</td>\n",
       "      <td>1</td>\n",
       "      <td>1</td>\n",
       "      <td>1</td>\n",
       "      <td>0</td>\n",
       "      <td>0</td>\n",
       "      <td>1</td>\n",
       "      <td>1</td>\n",
       "      <td>0</td>\n",
       "      <td>0</td>\n",
       "      <td>0</td>\n",
       "      <td>1</td>\n",
       "    </tr>\n",
       "    <tr>\n",
       "      <th>290</th>\n",
       "      <td>291</td>\n",
       "      <td>1</td>\n",
       "      <td>1</td>\n",
       "      <td>1</td>\n",
       "      <td>0</td>\n",
       "      <td>1</td>\n",
       "      <td>1</td>\n",
       "      <td>1</td>\n",
       "      <td>1</td>\n",
       "      <td>1</td>\n",
       "      <td>1</td>\n",
       "      <td>1</td>\n",
       "      <td>0</td>\n",
       "      <td>0</td>\n",
       "      <td>0</td>\n",
       "      <td>1</td>\n",
       "    </tr>\n",
       "    <tr>\n",
       "      <th>291</th>\n",
       "      <td>292</td>\n",
       "      <td>0</td>\n",
       "      <td>0</td>\n",
       "      <td>1</td>\n",
       "      <td>0</td>\n",
       "      <td>1</td>\n",
       "      <td>0</td>\n",
       "      <td>1</td>\n",
       "      <td>0</td>\n",
       "      <td>0</td>\n",
       "      <td>0</td>\n",
       "      <td>0</td>\n",
       "      <td>0</td>\n",
       "      <td>0</td>\n",
       "      <td>0</td>\n",
       "      <td>0</td>\n",
       "    </tr>\n",
       "  </tbody>\n",
       "</table>\n",
       "<p>292 rows × 16 columns</p>\n",
       "</div>"
      ],
      "text/plain": [
       "      id  A1_Score  A2_Score  A3_Score  A4_Score  A5_Score  A6_Score  \\\n",
       "0      1         1         1         0         0         1         1   \n",
       "1      2         1         1         0         0         1         1   \n",
       "2      3         1         1         0         0         0         1   \n",
       "3      4         0         1         0         0         1         1   \n",
       "4      5         1         1         1         1         1         1   \n",
       "..   ...       ...       ...       ...       ...       ...       ...   \n",
       "287  288         1         1         1         1         1         1   \n",
       "288  289         1         0         0         0         1         0   \n",
       "289  290         1         0         1         1         1         1   \n",
       "290  291         1         1         1         0         1         1   \n",
       "291  292         0         0         1         0         1         0   \n",
       "\n",
       "     A7_Score  A8_Score  A9_Score  A10_Score  gender  jundice  austim  \\\n",
       "0           0         1         0          0       1        0       0   \n",
       "1           0         1         0          0       1        0       0   \n",
       "2           1         1         0          0       1        0       0   \n",
       "3           0         0         0          1       0        1       0   \n",
       "4           1         1         1          1       1        1       0   \n",
       "..        ...       ...       ...        ...     ...      ...     ...   \n",
       "287         1         1         1          1       0        1       1   \n",
       "288         1         0         0          1       0        1       1   \n",
       "289         1         0         0          1       1        0       0   \n",
       "290         1         1         1          1       1        0       0   \n",
       "291         1         0         0          0       0        0       0   \n",
       "\n",
       "     used_app_before  Class/ASD  \n",
       "0                  0          0  \n",
       "1                  0          0  \n",
       "2                  1          0  \n",
       "3                  0          0  \n",
       "4                  0          1  \n",
       "..               ...        ...  \n",
       "287                0          1  \n",
       "288                0          0  \n",
       "289                0          1  \n",
       "290                0          1  \n",
       "291                0          0  \n",
       "\n",
       "[292 rows x 16 columns]"
      ]
     },
     "execution_count": 8,
     "metadata": {},
     "output_type": "execute_result"
    }
   ],
   "source": [
    "#df_1.drop(['ethnicity','contry_of_res','age_desc','relation','result','age'],axis=1)"
   ]
  },
  {
   "cell_type": "code",
   "execution_count": 16,
   "id": "48ba45ab",
   "metadata": {},
   "outputs": [
    {
     "data": {
      "text/plain": [
       "(292, 16)"
      ]
     },
     "execution_count": 16,
     "metadata": {},
     "output_type": "execute_result"
    }
   ],
   "source": [
    "df_1.shape"
   ]
  },
  {
   "cell_type": "code",
   "execution_count": 17,
   "id": "3670121d",
   "metadata": {},
   "outputs": [
    {
     "data": {
      "text/plain": [
       "id                 0\n",
       "A1_Score           0\n",
       "A2_Score           0\n",
       "A3_Score           0\n",
       "A4_Score           0\n",
       "A5_Score           0\n",
       "A6_Score           0\n",
       "A7_Score           0\n",
       "A8_Score           0\n",
       "A9_Score           0\n",
       "A10_Score          0\n",
       "gender             0\n",
       "jundice            0\n",
       "austim             0\n",
       "used_app_before    0\n",
       "Class/ASD          0\n",
       "dtype: int64"
      ]
     },
     "execution_count": 17,
     "metadata": {},
     "output_type": "execute_result"
    }
   ],
   "source": [
    "df_1.isnull().sum()"
   ]
  },
  {
   "cell_type": "code",
   "execution_count": 18,
   "id": "54b39a53",
   "metadata": {},
   "outputs": [
    {
     "data": {
      "text/plain": [
       "0"
      ]
     },
     "execution_count": 18,
     "metadata": {},
     "output_type": "execute_result"
    }
   ],
   "source": [
    "df_1.duplicated().sum()"
   ]
  },
  {
   "cell_type": "code",
   "execution_count": 19,
   "id": "528b4b05",
   "metadata": {},
   "outputs": [
    {
     "data": {
      "text/plain": [
       "id                 292\n",
       "A1_Score             2\n",
       "A2_Score             2\n",
       "A3_Score             2\n",
       "A4_Score             2\n",
       "A5_Score             2\n",
       "A6_Score             2\n",
       "A7_Score             2\n",
       "A8_Score             2\n",
       "A9_Score             2\n",
       "A10_Score            2\n",
       "gender               2\n",
       "jundice              2\n",
       "austim               2\n",
       "used_app_before      2\n",
       "Class/ASD            2\n",
       "dtype: int64"
      ]
     },
     "execution_count": 19,
     "metadata": {},
     "output_type": "execute_result"
    }
   ],
   "source": [
    "df_1.nunique()"
   ]
  },
  {
   "cell_type": "code",
   "execution_count": 20,
   "id": "bead6f17",
   "metadata": {},
   "outputs": [
    {
     "name": "stdout",
     "output_type": "stream",
     "text": [
      "id                 145.5\n",
      "A1_Score             1.0\n",
      "A2_Score             1.0\n",
      "A3_Score             1.0\n",
      "A4_Score             1.0\n",
      "A5_Score             1.0\n",
      "A6_Score             1.0\n",
      "A7_Score             1.0\n",
      "A8_Score             1.0\n",
      "A9_Score             1.0\n",
      "A10_Score            1.0\n",
      "gender               1.0\n",
      "jundice              1.0\n",
      "austim               0.0\n",
      "used_app_before      0.0\n",
      "Class/ASD            1.0\n",
      "dtype: float64\n"
     ]
    }
   ],
   "source": [
    "Q1=df_1.quantile(0.25)\n",
    "Q3=df_1.quantile(0.75)\n",
    "IQR=Q3-Q1\n",
    "print(IQR)"
   ]
  },
  {
   "cell_type": "code",
   "execution_count": 21,
   "id": "06b0a3a5",
   "metadata": {},
   "outputs": [
    {
     "data": {
      "text/plain": [
       "id                 292\n",
       "A1_Score           292\n",
       "A2_Score           292\n",
       "A3_Score           292\n",
       "A4_Score           292\n",
       "A5_Score           292\n",
       "A6_Score           292\n",
       "A7_Score           292\n",
       "A8_Score           292\n",
       "A9_Score           292\n",
       "A10_Score          292\n",
       "gender             292\n",
       "jundice            292\n",
       "austim             243\n",
       "used_app_before    281\n",
       "Class/ASD          292\n",
       "dtype: int64"
      ]
     },
     "execution_count": 21,
     "metadata": {},
     "output_type": "execute_result"
    }
   ],
   "source": [
    "autism_outlier=df_1[(df_1<(Q1 - 1.5 *IQR))|(df_1>(Q3 + 1.5 * IQR))]\n",
    "autism_outlier.isna().sum()"
   ]
  },
  {
   "cell_type": "code",
   "execution_count": 41,
   "id": "757a981e",
   "metadata": {},
   "outputs": [
    {
     "data": {
      "text/plain": [
       "(292, 16)"
      ]
     },
     "execution_count": 41,
     "metadata": {},
     "output_type": "execute_result"
    }
   ],
   "source": [
    "df_1.shape"
   ]
  },
  {
   "cell_type": "code",
   "execution_count": 47,
   "id": "69f73974",
   "metadata": {},
   "outputs": [],
   "source": [
    "# x and y\n",
    "x= df_1.iloc[:,1:16].values\n",
    "y=df_1.iloc[:,15].values"
   ]
  },
  {
   "cell_type": "code",
   "execution_count": 48,
   "id": "14dfacf8",
   "metadata": {},
   "outputs": [
    {
     "data": {
      "text/plain": [
       "array([[1, 1, 0, ..., 0, 0, 0],\n",
       "       [1, 1, 0, ..., 0, 0, 0],\n",
       "       [1, 1, 0, ..., 0, 1, 0],\n",
       "       ...,\n",
       "       [1, 0, 1, ..., 0, 0, 1],\n",
       "       [1, 1, 1, ..., 0, 0, 1],\n",
       "       [0, 0, 1, ..., 0, 0, 0]], dtype=int64)"
      ]
     },
     "execution_count": 48,
     "metadata": {},
     "output_type": "execute_result"
    }
   ],
   "source": [
    "x"
   ]
  },
  {
   "cell_type": "code",
   "execution_count": 49,
   "id": "347c2585",
   "metadata": {},
   "outputs": [
    {
     "data": {
      "text/plain": [
       "array([0, 0, 0, 0, 1, 0, 1, 1, 1, 0, 1, 0, 1, 0, 1, 1, 1, 0, 1, 1, 1, 0,\n",
       "       0, 0, 1, 0, 0, 1, 0, 0, 1, 0, 1, 0, 0, 0, 0, 0, 1, 1, 0, 0, 0, 1,\n",
       "       0, 0, 0, 1, 1, 0, 0, 0, 0, 1, 0, 0, 0, 1, 1, 1, 0, 1, 0, 1, 0, 0,\n",
       "       0, 0, 0, 1, 0, 0, 1, 1, 1, 0, 1, 0, 1, 0, 0, 1, 1, 0, 0, 1, 1, 1,\n",
       "       0, 1, 1, 0, 1, 1, 1, 1, 1, 1, 1, 0, 0, 1, 0, 0, 0, 1, 1, 0, 0, 0,\n",
       "       1, 0, 1, 1, 0, 1, 1, 0, 0, 0, 1, 0, 1, 0, 1, 1, 1, 1, 0, 1, 1, 0,\n",
       "       0, 0, 1, 0, 1, 0, 0, 1, 1, 0, 1, 1, 0, 1, 0, 1, 0, 0, 1, 1, 0, 1,\n",
       "       1, 1, 0, 1, 1, 1, 1, 1, 0, 1, 0, 0, 0, 1, 1, 1, 0, 0, 1, 0, 0, 0,\n",
       "       0, 1, 0, 1, 1, 0, 1, 0, 1, 0, 1, 1, 0, 1, 1, 1, 1, 0, 0, 0, 1, 1,\n",
       "       1, 0, 0, 1, 0, 1, 1, 0, 1, 1, 0, 0, 1, 0, 0, 0, 0, 1, 1, 0, 0, 1,\n",
       "       1, 1, 1, 1, 0, 1, 0, 1, 0, 1, 1, 0, 1, 1, 0, 0, 1, 0, 0, 0, 0, 0,\n",
       "       0, 0, 0, 0, 0, 0, 0, 0, 1, 1, 1, 1, 0, 0, 0, 1, 0, 1, 0, 0, 1, 0,\n",
       "       1, 1, 0, 1, 1, 0, 1, 0, 0, 1, 1, 0, 0, 1, 0, 1, 0, 0, 0, 0, 0, 1,\n",
       "       1, 1, 0, 1, 1, 0])"
      ]
     },
     "execution_count": 49,
     "metadata": {},
     "output_type": "execute_result"
    }
   ],
   "source": [
    "y"
   ]
  },
  {
   "cell_type": "code",
   "execution_count": 50,
   "id": "125dcf58",
   "metadata": {},
   "outputs": [],
   "source": [
    "#testing and train\n",
    "from sklearn.model_selection import train_test_split"
   ]
  },
  {
   "cell_type": "code",
   "execution_count": 51,
   "id": "8c592224",
   "metadata": {},
   "outputs": [],
   "source": [
    "x_train,x_test,y_train,y_test=train_test_split(x,y,test_size=0.25,random_state=0)"
   ]
  },
  {
   "cell_type": "code",
   "execution_count": 52,
   "id": "ea8cf53f",
   "metadata": {},
   "outputs": [
    {
     "data": {
      "text/plain": [
       "array([[1, 1, 1, ..., 0, 0, 1],\n",
       "       [1, 0, 0, ..., 0, 0, 0],\n",
       "       [1, 1, 1, ..., 0, 0, 1],\n",
       "       ...,\n",
       "       [1, 1, 0, ..., 0, 0, 0],\n",
       "       [1, 1, 1, ..., 0, 0, 1],\n",
       "       [1, 1, 1, ..., 0, 0, 1]], dtype=int64)"
      ]
     },
     "execution_count": 52,
     "metadata": {},
     "output_type": "execute_result"
    }
   ],
   "source": [
    "x_train"
   ]
  },
  {
   "cell_type": "code",
   "execution_count": 53,
   "id": "cd01092f",
   "metadata": {},
   "outputs": [
    {
     "data": {
      "text/plain": [
       "array([[0, 0, 0, ..., 0, 0, 0],\n",
       "       [1, 0, 1, ..., 0, 0, 0],\n",
       "       [1, 0, 1, ..., 1, 0, 0],\n",
       "       ...,\n",
       "       [1, 0, 1, ..., 0, 0, 1],\n",
       "       [1, 0, 1, ..., 0, 0, 0],\n",
       "       [1, 0, 1, ..., 0, 0, 1]], dtype=int64)"
      ]
     },
     "execution_count": 53,
     "metadata": {},
     "output_type": "execute_result"
    }
   ],
   "source": [
    "x_test"
   ]
  },
  {
   "cell_type": "code",
   "execution_count": 54,
   "id": "07f8a9c2",
   "metadata": {},
   "outputs": [
    {
     "data": {
      "text/plain": [
       "array([1, 0, 1, 0, 1, 1, 1, 1, 0, 1, 1, 0, 1, 0, 0, 1, 1, 0, 1, 0, 0, 0,\n",
       "       0, 1, 0, 1, 0, 0, 1, 0, 1, 0, 0, 0, 1, 1, 0, 0, 1, 1, 1, 0, 0, 1,\n",
       "       1, 1, 1, 1, 0, 0, 0, 0, 0, 0, 0, 1, 0, 0, 0, 0, 0, 0, 1, 0, 1, 1,\n",
       "       1, 1, 0, 0, 1, 1, 1, 1, 1, 0, 0, 0, 1, 0, 0, 1, 1, 0, 1, 0, 1, 1,\n",
       "       0, 1, 1, 0, 1, 0, 1, 1, 1, 0, 0, 1, 1, 0, 0, 0, 0, 1, 0, 1, 1, 1,\n",
       "       1, 0, 0, 0, 1, 0, 1, 1, 0, 1, 1, 0, 1, 1, 1, 0, 0, 1, 0, 1, 1, 1,\n",
       "       0, 1, 0, 0, 1, 1, 1, 0, 1, 0, 0, 0, 1, 0, 0, 1, 0, 0, 1, 0, 0, 0,\n",
       "       0, 0, 1, 1, 0, 0, 0, 1, 0, 1, 0, 1, 0, 0, 0, 1, 1, 0, 1, 0, 0, 0,\n",
       "       0, 0, 0, 0, 1, 1, 1, 0, 0, 0, 1, 1, 0, 0, 1, 1, 1, 0, 1, 0, 1, 1,\n",
       "       1, 0, 0, 1, 0, 0, 1, 0, 0, 0, 1, 0, 1, 0, 0, 0, 1, 1, 0, 1, 1])"
      ]
     },
     "execution_count": 54,
     "metadata": {},
     "output_type": "execute_result"
    }
   ],
   "source": [
    "y_train"
   ]
  },
  {
   "cell_type": "code",
   "execution_count": 55,
   "id": "ff417f4e",
   "metadata": {},
   "outputs": [
    {
     "data": {
      "text/plain": [
       "array([0, 0, 0, 0, 0, 1, 1, 1, 1, 0, 0, 1, 0, 0, 1, 1, 0, 0, 0, 1, 1, 1,\n",
       "       0, 1, 0, 1, 1, 1, 0, 0, 0, 1, 0, 0, 0, 0, 0, 0, 1, 0, 0, 1, 0, 1,\n",
       "       1, 0, 1, 1, 1, 1, 1, 0, 1, 1, 1, 0, 0, 0, 1, 1, 1, 0, 1, 0, 1, 1,\n",
       "       0, 1, 0, 1, 1, 0, 1])"
      ]
     },
     "execution_count": 55,
     "metadata": {},
     "output_type": "execute_result"
    }
   ],
   "source": [
    "y_test"
   ]
  },
  {
   "cell_type": "code",
   "execution_count": 56,
   "id": "51feb444",
   "metadata": {},
   "outputs": [],
   "source": [
    "# scaleing the data\n",
    "from sklearn.preprocessing import StandardScaler"
   ]
  },
  {
   "cell_type": "code",
   "execution_count": 57,
   "id": "a5812943",
   "metadata": {},
   "outputs": [],
   "source": [
    "Sc=StandardScaler()\n",
    "x_train=Sc.fit_transform(x_train)\n",
    "x_test = Sc.transform(x_test)"
   ]
  },
  {
   "cell_type": "code",
   "execution_count": 58,
   "id": "a052d689",
   "metadata": {},
   "outputs": [
    {
     "data": {
      "text/plain": [
       "array([[ 0.72168784,  0.94230093,  0.58613845, ..., -0.45088436,\n",
       "        -0.20701967,  1.05155562],\n",
       "       [ 0.72168784, -1.06123211, -1.70608156, ..., -0.45088436,\n",
       "        -0.20701967, -0.95097204],\n",
       "       [ 0.72168784,  0.94230093,  0.58613845, ..., -0.45088436,\n",
       "        -0.20701967,  1.05155562],\n",
       "       ...,\n",
       "       [ 0.72168784,  0.94230093, -1.70608156, ..., -0.45088436,\n",
       "        -0.20701967, -0.95097204],\n",
       "       [ 0.72168784,  0.94230093,  0.58613845, ..., -0.45088436,\n",
       "        -0.20701967,  1.05155562],\n",
       "       [ 0.72168784,  0.94230093,  0.58613845, ..., -0.45088436,\n",
       "        -0.20701967,  1.05155562]])"
      ]
     },
     "execution_count": 58,
     "metadata": {},
     "output_type": "execute_result"
    }
   ],
   "source": [
    "x_train"
   ]
  },
  {
   "cell_type": "code",
   "execution_count": 59,
   "id": "7f68b36f",
   "metadata": {},
   "outputs": [
    {
     "data": {
      "text/plain": [
       "array([[-1.38564065, -1.06123211, -1.70608156, ..., -0.45088436,\n",
       "        -0.20701967, -0.95097204],\n",
       "       [ 0.72168784, -1.06123211,  0.58613845, ..., -0.45088436,\n",
       "        -0.20701967, -0.95097204],\n",
       "       [ 0.72168784, -1.06123211,  0.58613845, ...,  2.21786359,\n",
       "        -0.20701967, -0.95097204],\n",
       "       ...,\n",
       "       [ 0.72168784, -1.06123211,  0.58613845, ..., -0.45088436,\n",
       "        -0.20701967,  1.05155562],\n",
       "       [ 0.72168784, -1.06123211,  0.58613845, ..., -0.45088436,\n",
       "        -0.20701967, -0.95097204],\n",
       "       [ 0.72168784, -1.06123211,  0.58613845, ..., -0.45088436,\n",
       "        -0.20701967,  1.05155562]])"
      ]
     },
     "execution_count": 59,
     "metadata": {},
     "output_type": "execute_result"
    }
   ],
   "source": [
    "x_test"
   ]
  },
  {
   "cell_type": "code",
   "execution_count": 60,
   "id": "c0945a1c",
   "metadata": {},
   "outputs": [],
   "source": [
    "# 6 model and testing it to take"
   ]
  },
  {
   "cell_type": "code",
   "execution_count": 61,
   "id": "1e2d5da5",
   "metadata": {},
   "outputs": [],
   "source": [
    "from sklearn.discriminant_analysis import LinearDiscriminantAnalysis"
   ]
  },
  {
   "cell_type": "code",
   "execution_count": 62,
   "id": "68fd5c0f",
   "metadata": {},
   "outputs": [],
   "source": [
    "from sklearn.linear_model import LogisticRegression"
   ]
  },
  {
   "cell_type": "code",
   "execution_count": 63,
   "id": "8f677894",
   "metadata": {},
   "outputs": [],
   "source": [
    "from sklearn.tree import DecisionTreeClassifier"
   ]
  },
  {
   "cell_type": "code",
   "execution_count": 64,
   "id": "f7947d9b",
   "metadata": {},
   "outputs": [],
   "source": [
    "from sklearn.neighbors import KNeighborsClassifier"
   ]
  },
  {
   "cell_type": "code",
   "execution_count": 65,
   "id": "7a8e8022",
   "metadata": {},
   "outputs": [],
   "source": [
    "from sklearn.naive_bayes import GaussianNB"
   ]
  },
  {
   "cell_type": "code",
   "execution_count": 66,
   "id": "8e096452",
   "metadata": {},
   "outputs": [],
   "source": [
    "from sklearn.svm import SVC"
   ]
  },
  {
   "cell_type": "code",
   "execution_count": 67,
   "id": "f83c4a49",
   "metadata": {},
   "outputs": [],
   "source": [
    "# gives score of  ytest and y predict\n",
    "from sklearn.model_selection import cross_val_score"
   ]
  },
  {
   "cell_type": "code",
   "execution_count": 68,
   "id": "dca1b15e",
   "metadata": {},
   "outputs": [],
   "source": [
    "# it uses Stratified logic to test the data\n",
    "from sklearn.model_selection import StratifiedKFold"
   ]
  },
  {
   "cell_type": "code",
   "execution_count": 69,
   "id": "aa9072f4",
   "metadata": {},
   "outputs": [],
   "source": [
    "models =[]\n",
    "models.append(('LR',LogisticRegression(solver='liblinear',multi_class = 'ovr')))"
   ]
  },
  {
   "cell_type": "code",
   "execution_count": 70,
   "id": "45c6813a",
   "metadata": {},
   "outputs": [],
   "source": [
    "models.append(('LDA',LinearDiscriminantAnalysis()))"
   ]
  },
  {
   "cell_type": "code",
   "execution_count": 71,
   "id": "37b9537c",
   "metadata": {},
   "outputs": [],
   "source": [
    "models.append(('KNN',KNeighborsClassifier()))"
   ]
  },
  {
   "cell_type": "code",
   "execution_count": 72,
   "id": "d60418ac",
   "metadata": {},
   "outputs": [],
   "source": [
    "models.append(('DT',DecisionTreeClassifier()))\n"
   ]
  },
  {
   "cell_type": "code",
   "execution_count": 73,
   "id": "86ab34c5",
   "metadata": {},
   "outputs": [],
   "source": [
    "models.append(('NB',GaussianNB()))"
   ]
  },
  {
   "cell_type": "code",
   "execution_count": 74,
   "id": "d813deca",
   "metadata": {},
   "outputs": [],
   "source": [
    "models.append(('SVM',SVC(gamma='auto')))"
   ]
  },
  {
   "cell_type": "code",
   "execution_count": 75,
   "id": "857cfcd9",
   "metadata": {},
   "outputs": [
    {
     "name": "stdout",
     "output_type": "stream",
     "text": [
      "LR 1.0\n",
      "LDA 1.0\n",
      "KNN 0.9679653679653681\n",
      "DT 1.0\n",
      "NB 1.0\n",
      "SVM 0.9954545454545455\n"
     ]
    }
   ],
   "source": [
    "result=[]\n",
    "names=[]\n",
    "res=[]\n",
    "\n",
    "for name,model in models:\n",
    "    Kfold=StratifiedKFold(n_splits=10,random_state=None)\n",
    "    cv_result=cross_val_score(model,x_train,y_train,cv=Kfold,scoring='accuracy')\n",
    "    names.append(name)\n",
    "    res.append(cv_result.mean())\n",
    "    print(name,cv_result.mean())"
   ]
  },
  {
   "cell_type": "code",
   "execution_count": 76,
   "id": "3260468d",
   "metadata": {},
   "outputs": [],
   "source": [
    "import matplotlib.pyplot as pyplot"
   ]
  },
  {
   "cell_type": "code",
   "execution_count": 116,
   "id": "b4d1a2f1",
   "metadata": {},
   "outputs": [
    {
     "data": {
      "image/png": "[encoded data removed]",
      "text/plain": [
       "<Figure size 432x288 with 1 Axes>"
      ]
     },
     "metadata": {
      "needs_background": "light"
     },
     "output_type": "display_data"
    }
   ],
   "source": [
    "pyplot.ylim(0.1,1.5)\n",
    "pyplot.bar(names,res,color='pink',width=0.6)\n",
    "\n",
    "pyplot.title('Algorithm Comparison')\n",
    "pyplot.show()"
   ]
  },
  {
   "cell_type": "code",
   "execution_count": null,
   "id": "4e9960c6",
   "metadata": {},
   "outputs": [],
   "source": []
  },
  {
   "cell_type": "code",
   "execution_count": 86,
   "id": "4dcd6a39",
   "metadata": {},
   "outputs": [],
   "source": [
    "#PCA"
   ]
  },
  {
   "cell_type": "code",
   "execution_count": 89,
   "id": "b579ada3",
   "metadata": {},
   "outputs": [],
   "source": [
    "\n",
    "from sklearn.decomposition import PCA\n",
    "import matplotlib.pyplot as plt"
   ]
  },
  {
   "cell_type": "code",
   "execution_count": 90,
   "id": "75476e45",
   "metadata": {},
   "outputs": [
    {
     "data": {
      "image/png": "[encoded data removed]",
      "text/plain": [
       "<Figure size 432x288 with 1 Axes>"
      ]
     },
     "metadata": {
      "needs_background": "light"
     },
     "output_type": "display_data"
    }
   ],
   "source": [
    "pca = PCA().fit(x_train)\n",
    "plt.plot(np.cumsum(pca.explained_variance_ratio_))\n",
    "plt.xlabel('number of components')\n",
    "plt.ylabel('cumulative explained variance');"
   ]
  },
  {
   "cell_type": "code",
   "execution_count": null,
   "id": "eb6458e7",
   "metadata": {},
   "outputs": [],
   "source": [
    "#checking PCA 13&14"
   ]
  },
  {
   "cell_type": "code",
   "execution_count": 92,
   "id": "61173a7d",
   "metadata": {},
   "outputs": [
    {
     "data": {
      "text/plain": [
       "PCA(n_components=13)"
      ]
     },
     "execution_count": 92,
     "metadata": {},
     "output_type": "execute_result"
    }
   ],
   "source": [
    "pca=PCA(n_components=13)\n",
    "pca.fit(x_train)"
   ]
  },
  {
   "cell_type": "code",
   "execution_count": 93,
   "id": "936c0358",
   "metadata": {},
   "outputs": [
    {
     "data": {
      "text/plain": [
       "(219, 13)"
      ]
     },
     "execution_count": 93,
     "metadata": {},
     "output_type": "execute_result"
    }
   ],
   "source": [
    "x_pca=pca.transform(x_train)\n",
    "x_pca.shape"
   ]
  },
  {
   "cell_type": "code",
   "execution_count": 94,
   "id": "c4c2fc65",
   "metadata": {},
   "outputs": [
    {
     "name": "stdout",
     "output_type": "stream",
     "text": [
      "LR 1.0\n",
      "LDA 1.0\n",
      "KNN 0.9679653679653681\n",
      "DT 1.0\n",
      "NB 0.9863636363636363\n",
      "SVM 0.9954545454545455\n"
     ]
    }
   ],
   "source": [
    "result=[]\n",
    "names=[]\n",
    "res=[]\n",
    "\n",
    "for name,model in models:\n",
    "    Kfold=StratifiedKFold(n_splits=10,random_state=None)\n",
    "    cv_result=cross_val_score(model,x_pca,y_train,cv=Kfold,scoring='accuracy')\n",
    "    names.append(name)\n",
    "    res.append(cv_result.mean())\n",
    "    print(name,cv_result.mean())"
   ]
  },
  {
   "cell_type": "code",
   "execution_count": 95,
   "id": "78a48f84",
   "metadata": {},
   "outputs": [
    {
     "data": {
      "image/png": "[encoded data removed]",
      "text/plain": [
       "<Figure size 432x288 with 1 Axes>"
      ]
     },
     "metadata": {
      "needs_background": "light"
     },
     "output_type": "display_data"
    }
   ],
   "source": [
    "pyplot.ylim(0.1,1.5)\n",
    "pyplot.bar(names,res,color='blue',width=0.6)\n",
    "\n",
    "pyplot.title('Algorithm Comparison')\n",
    "pyplot.show()"
   ]
  },
  {
   "cell_type": "code",
   "execution_count": 96,
   "id": "43b966d8",
   "metadata": {},
   "outputs": [
    {
     "data": {
      "text/plain": [
       "PCA(n_components=14)"
      ]
     },
     "execution_count": 96,
     "metadata": {},
     "output_type": "execute_result"
    }
   ],
   "source": [
    "pca1=PCA(n_components=14)\n",
    "pca1.fit(x_train)"
   ]
  },
  {
   "cell_type": "code",
   "execution_count": 99,
   "id": "786d3ea1",
   "metadata": {},
   "outputs": [
    {
     "data": {
      "text/plain": [
       "(219, 14)"
      ]
     },
     "execution_count": 99,
     "metadata": {},
     "output_type": "execute_result"
    }
   ],
   "source": [
    "x_pca1=pca1.transform(x_train)\n",
    "x_pca1.shape"
   ]
  },
  {
   "cell_type": "code",
   "execution_count": 100,
   "id": "44352a20",
   "metadata": {},
   "outputs": [
    {
     "name": "stdout",
     "output_type": "stream",
     "text": [
      "LR 1.0\n",
      "LDA 1.0\n",
      "KNN 0.9497835497835497\n",
      "DT 1.0\n",
      "NB 0.9863636363636363\n",
      "SVM 0.9954545454545455\n"
     ]
    }
   ],
   "source": [
    "result=[]\n",
    "names=[]\n",
    "res=[]\n",
    "\n",
    "for name,model in models:\n",
    "    Kfold=StratifiedKFold(n_splits=10,random_state=None)\n",
    "    cv_result=cross_val_score(model,x_pca1,y_train,cv=Kfold,scoring='accuracy')\n",
    "    names.append(name)\n",
    "    res.append(cv_result.mean())\n",
    "    print(name,cv_result.mean())"
   ]
  },
  {
   "cell_type": "code",
   "execution_count": 101,
   "id": "5614eebf",
   "metadata": {},
   "outputs": [
    {
     "data": {
      "image/png": "[encoded data removed]",
      "text/plain": [
       "<Figure size 432x288 with 1 Axes>"
      ]
     },
     "metadata": {
      "needs_background": "light"
     },
     "output_type": "display_data"
    }
   ],
   "source": [
    "pyplot.ylim(0.1,1.5)\n",
    "pyplot.bar(names,res,color='green',width=0.6)\n",
    "\n",
    "pyplot.title('Algorithm Comparison')\n",
    "pyplot.show()"
   ]
  },
  {
   "cell_type": "code",
   "execution_count": null,
   "id": "51512a54",
   "metadata": {},
   "outputs": [],
   "source": []
  },
  {
   "cell_type": "code",
   "execution_count": null,
   "id": "2644495b",
   "metadata": {},
   "outputs": [],
   "source": []
  },
  {
   "cell_type": "code",
   "execution_count": 102,
   "id": "12bd752c",
   "metadata": {},
   "outputs": [],
   "source": [
    "modelparameter={'random_state':1,'learing_rate':0.1,'n_estimations':10}"
   ]
  },
  {
   "cell_type": "code",
   "execution_count": 103,
   "id": "3a5a83ee",
   "metadata": {},
   "outputs": [],
   "source": [
    "import lightgbm as lgb\n"
   ]
  },
  {
   "cell_type": "code",
   "execution_count": 104,
   "id": "6cf90418",
   "metadata": {},
   "outputs": [
    {
     "name": "stdout",
     "output_type": "stream",
     "text": [
      "[LightGBM] [Warning] Unknown parameter: n_estimations\n",
      "[LightGBM] [Warning] Unknown parameter: learing_rate\n"
     ]
    },
    {
     "data": {
      "text/plain": [
       "LGBMClassifier(learing_rate=0.1, n_estimations=10, random_state=1)"
      ]
     },
     "execution_count": 104,
     "metadata": {},
     "output_type": "execute_result"
    }
   ],
   "source": [
    "model = lgb.LGBMClassifier(**modelparameter)\n",
    "model.fit(x_train, y_train)"
   ]
  },
  {
   "cell_type": "code",
   "execution_count": 105,
   "id": "482ea77d",
   "metadata": {},
   "outputs": [],
   "source": [
    "dont_change_y_pred=model.predict_proba(x_test)"
   ]
  },
  {
   "cell_type": "code",
   "execution_count": 106,
   "id": "26d63685",
   "metadata": {},
   "outputs": [
    {
     "data": {
      "text/plain": [
       "array([0, 0, 0, 0, 0, 1, 1, 1, 1, 0, 0, 1, 0, 0, 1, 1, 0, 0, 0, 1, 1, 1,\n",
       "       0, 1, 0, 1, 1, 1, 0, 0, 0, 1, 0, 0, 0, 0, 0, 0, 1, 0, 0, 1, 0, 1,\n",
       "       1, 0, 1, 1, 1, 1, 1, 0, 1, 1, 1, 0, 0, 0, 1, 1, 1, 0, 1, 0, 1, 1,\n",
       "       0, 1, 0, 1, 1, 0, 1])"
      ]
     },
     "execution_count": 106,
     "metadata": {},
     "output_type": "execute_result"
    }
   ],
   "source": [
    "y_test"
   ]
  },
  {
   "cell_type": "code",
   "execution_count": 107,
   "id": "0bf88b5f",
   "metadata": {},
   "outputs": [
    {
     "data": {
      "text/plain": [
       "array([[-1.38564065, -1.06123211, -1.70608156, ..., -0.45088436,\n",
       "        -0.20701967, -0.95097204],\n",
       "       [ 0.72168784, -1.06123211,  0.58613845, ..., -0.45088436,\n",
       "        -0.20701967, -0.95097204],\n",
       "       [ 0.72168784, -1.06123211,  0.58613845, ...,  2.21786359,\n",
       "        -0.20701967, -0.95097204],\n",
       "       ...,\n",
       "       [ 0.72168784, -1.06123211,  0.58613845, ..., -0.45088436,\n",
       "        -0.20701967,  1.05155562],\n",
       "       [ 0.72168784, -1.06123211,  0.58613845, ..., -0.45088436,\n",
       "        -0.20701967, -0.95097204],\n",
       "       [ 0.72168784, -1.06123211,  0.58613845, ..., -0.45088436,\n",
       "        -0.20701967,  1.05155562]])"
      ]
     },
     "execution_count": 107,
     "metadata": {},
     "output_type": "execute_result"
    }
   ],
   "source": [
    "x_test"
   ]
  },
  {
   "cell_type": "code",
   "execution_count": 108,
   "id": "8311910c",
   "metadata": {},
   "outputs": [
    {
     "data": {
      "text/plain": [
       "array([[9.99979145e-01, 2.08553632e-05],\n",
       "       [9.99979145e-01, 2.08553632e-05],\n",
       "       [9.99979145e-01, 2.08553632e-05],\n",
       "       [9.99979145e-01, 2.08553632e-05],\n",
       "       [9.99979145e-01, 2.08553632e-05],\n",
       "       [2.29392761e-05, 9.99977061e-01],\n",
       "       [2.29392761e-05, 9.99977061e-01],\n",
       "       [2.29392761e-05, 9.99977061e-01],\n",
       "       [2.29392761e-05, 9.99977061e-01],\n",
       "       [9.99979145e-01, 2.08553632e-05],\n",
       "       [9.99979145e-01, 2.08553632e-05],\n",
       "       [2.29392761e-05, 9.99977061e-01],\n",
       "       [9.99979145e-01, 2.08553632e-05],\n",
       "       [9.99979145e-01, 2.08553632e-05],\n",
       "       [2.29392761e-05, 9.99977061e-01],\n",
       "       [2.29392761e-05, 9.99977061e-01],\n",
       "       [9.99979145e-01, 2.08553632e-05],\n",
       "       [9.99979145e-01, 2.08553632e-05],\n",
       "       [9.99979145e-01, 2.08553632e-05],\n",
       "       [2.29392761e-05, 9.99977061e-01],\n",
       "       [2.29392761e-05, 9.99977061e-01],\n",
       "       [2.29392761e-05, 9.99977061e-01],\n",
       "       [9.99979145e-01, 2.08553632e-05],\n",
       "       [2.29392761e-05, 9.99977061e-01],\n",
       "       [9.99979145e-01, 2.08553632e-05],\n",
       "       [2.29392761e-05, 9.99977061e-01],\n",
       "       [2.29392761e-05, 9.99977061e-01],\n",
       "       [2.29392761e-05, 9.99977061e-01],\n",
       "       [9.99979145e-01, 2.08553632e-05],\n",
       "       [9.99979145e-01, 2.08553632e-05],\n",
       "       [9.99979145e-01, 2.08553632e-05],\n",
       "       [2.29392761e-05, 9.99977061e-01],\n",
       "       [9.99979145e-01, 2.08553632e-05],\n",
       "       [9.99979145e-01, 2.08553632e-05],\n",
       "       [9.99979145e-01, 2.08553632e-05],\n",
       "       [9.99979145e-01, 2.08553632e-05],\n",
       "       [9.99979145e-01, 2.08553632e-05],\n",
       "       [9.99979145e-01, 2.08553632e-05],\n",
       "       [2.29392761e-05, 9.99977061e-01],\n",
       "       [9.99979145e-01, 2.08553632e-05],\n",
       "       [9.99979145e-01, 2.08553632e-05],\n",
       "       [2.29392761e-05, 9.99977061e-01],\n",
       "       [9.99979145e-01, 2.08553632e-05],\n",
       "       [2.29392761e-05, 9.99977061e-01],\n",
       "       [2.29392761e-05, 9.99977061e-01],\n",
       "       [9.99979145e-01, 2.08553632e-05],\n",
       "       [2.29392761e-05, 9.99977061e-01],\n",
       "       [2.29392761e-05, 9.99977061e-01],\n",
       "       [2.29392761e-05, 9.99977061e-01],\n",
       "       [2.29392761e-05, 9.99977061e-01],\n",
       "       [2.29392761e-05, 9.99977061e-01],\n",
       "       [9.99979145e-01, 2.08553632e-05],\n",
       "       [2.29392761e-05, 9.99977061e-01],\n",
       "       [2.29392761e-05, 9.99977061e-01],\n",
       "       [2.29392761e-05, 9.99977061e-01],\n",
       "       [9.99979145e-01, 2.08553632e-05],\n",
       "       [9.99979145e-01, 2.08553632e-05],\n",
       "       [9.99979145e-01, 2.08553632e-05],\n",
       "       [2.29392761e-05, 9.99977061e-01],\n",
       "       [2.29392761e-05, 9.99977061e-01],\n",
       "       [2.29392761e-05, 9.99977061e-01],\n",
       "       [9.99979145e-01, 2.08553632e-05],\n",
       "       [2.29392761e-05, 9.99977061e-01],\n",
       "       [9.99979145e-01, 2.08553632e-05],\n",
       "       [2.29392761e-05, 9.99977061e-01],\n",
       "       [2.29392761e-05, 9.99977061e-01],\n",
       "       [9.99979145e-01, 2.08553632e-05],\n",
       "       [2.29392761e-05, 9.99977061e-01],\n",
       "       [9.99979145e-01, 2.08553632e-05],\n",
       "       [2.29392761e-05, 9.99977061e-01],\n",
       "       [2.29392761e-05, 9.99977061e-01],\n",
       "       [9.99979145e-01, 2.08553632e-05],\n",
       "       [2.29392761e-05, 9.99977061e-01]])"
      ]
     },
     "execution_count": 108,
     "metadata": {},
     "output_type": "execute_result"
    }
   ],
   "source": [
    "dont_change_y_pred"
   ]
  },
  {
   "cell_type": "code",
   "execution_count": 109,
   "id": "92a685b7",
   "metadata": {},
   "outputs": [],
   "source": [
    "threshold1=0.5\n",
    "y_pred_class=dont_change_y_pred>threshold1"
   ]
  },
  {
   "cell_type": "code",
   "execution_count": 110,
   "id": "7106a435",
   "metadata": {},
   "outputs": [
    {
     "data": {
      "text/plain": [
       "array([[ True, False],\n",
       "       [ True, False],\n",
       "       [ True, False],\n",
       "       [ True, False],\n",
       "       [ True, False],\n",
       "       [False,  True],\n",
       "       [False,  True],\n",
       "       [False,  True],\n",
       "       [False,  True],\n",
       "       [ True, False],\n",
       "       [ True, False],\n",
       "       [False,  True],\n",
       "       [ True, False],\n",
       "       [ True, False],\n",
       "       [False,  True],\n",
       "       [False,  True],\n",
       "       [ True, False],\n",
       "       [ True, False],\n",
       "       [ True, False],\n",
       "       [False,  True],\n",
       "       [False,  True],\n",
       "       [False,  True],\n",
       "       [ True, False],\n",
       "       [False,  True],\n",
       "       [ True, False],\n",
       "       [False,  True],\n",
       "       [False,  True],\n",
       "       [False,  True],\n",
       "       [ True, False],\n",
       "       [ True, False],\n",
       "       [ True, False],\n",
       "       [False,  True],\n",
       "       [ True, False],\n",
       "       [ True, False],\n",
       "       [ True, False],\n",
       "       [ True, False],\n",
       "       [ True, False],\n",
       "       [ True, False],\n",
       "       [False,  True],\n",
       "       [ True, False],\n",
       "       [ True, False],\n",
       "       [False,  True],\n",
       "       [ True, False],\n",
       "       [False,  True],\n",
       "       [False,  True],\n",
       "       [ True, False],\n",
       "       [False,  True],\n",
       "       [False,  True],\n",
       "       [False,  True],\n",
       "       [False,  True],\n",
       "       [False,  True],\n",
       "       [ True, False],\n",
       "       [False,  True],\n",
       "       [False,  True],\n",
       "       [False,  True],\n",
       "       [ True, False],\n",
       "       [ True, False],\n",
       "       [ True, False],\n",
       "       [False,  True],\n",
       "       [False,  True],\n",
       "       [False,  True],\n",
       "       [ True, False],\n",
       "       [False,  True],\n",
       "       [ True, False],\n",
       "       [False,  True],\n",
       "       [False,  True],\n",
       "       [ True, False],\n",
       "       [False,  True],\n",
       "       [ True, False],\n",
       "       [False,  True],\n",
       "       [False,  True],\n",
       "       [ True, False],\n",
       "       [False,  True]])"
      ]
     },
     "execution_count": 110,
     "metadata": {},
     "output_type": "execute_result"
    }
   ],
   "source": [
    "y_pred_class"
   ]
  },
  {
   "cell_type": "code",
   "execution_count": 111,
   "id": "a755b61f",
   "metadata": {},
   "outputs": [
    {
     "name": "stdout",
     "output_type": "stream",
     "text": [
      "[0 0 0 0 0 1 1 1 1 0 0 1 0 0 1 1 0 0 0 1 1 1 0 1 0 1 1 1 0 0 0 1 0 0 0 0 0\n",
      " 0 1 0 0 1 0 1 1 0 1 1 1 1 1 0 1 1 1 0 0 0 1 1 1 0 1 0 1 1 0 1 0 1 1 0 1]\n"
     ]
    }
   ],
   "source": [
    "y_pred_df= pd.DataFrame(y_pred_class) \n",
    "y_pred_df.replace({False:0,True:1},inplace=True)\n",
    "y_pred =y_pred_df.iloc[:,1].values\n",
    "print(y_pred)"
   ]
  },
  {
   "cell_type": "code",
   "execution_count": 112,
   "id": "6472628a",
   "metadata": {},
   "outputs": [],
   "source": [
    "from sklearn.metrics import confusion_matrix\n",
    "Cm=confusion_matrix(y_test,y_pred)\n",
    "tp,fp,fn,tn=Cm.ravel()"
   ]
  },
  {
   "cell_type": "code",
   "execution_count": 113,
   "id": "d6ef8af1",
   "metadata": {},
   "outputs": [
    {
     "data": {
      "text/plain": [
       "array([[36,  0],\n",
       "       [ 0, 37]], dtype=int64)"
      ]
     },
     "execution_count": 113,
     "metadata": {},
     "output_type": "execute_result"
    }
   ],
   "source": [
    "Cm"
   ]
  },
  {
   "cell_type": "code",
   "execution_count": 114,
   "id": "62f429ea",
   "metadata": {},
   "outputs": [],
   "source": [
    "from sklearn.metrics import confusion_matrix\n",
    "y_pred\n",
    "cm = confusion_matrix(y_test, y_pred)\n",
    "tn, fp, fn, tp = cm.ravel()\n",
    "\n",
    "#False postive Rate\n",
    "false_positive_rate = fp / (fp + tn)\n",
    "\n",
    "#False Negative Rate\n",
    "false_negative_rate = fn / (tp + fn)\n",
    "\n",
    "#True Negative Rate\n",
    "true_negative_rate = tn / (tn + fp)\n",
    "\n",
    "#Negative Predicted Value\n",
    "negative_predictive_value = tn/ (tn + fn)\n",
    "\n",
    "#False Discovery Rate\n",
    "false_discovery_rate = fp/ (tp + fp)\n",
    "\n",
    "from sklearn.metrics import recall_score\n",
    "#True Positive Rate or recall or sensitivity\n",
    "recall = recall_score(y_test, y_pred) # or optionally tp"
   ]
  },
  {
   "cell_type": "code",
   "execution_count": 115,
   "id": "7618d177",
   "metadata": {},
   "outputs": [
    {
     "data": {
      "text/plain": [
       "<sklearn.metrics._plot.roc_curve.RocCurveDisplay at 0x1c36dbd1c40>"
      ]
     },
     "execution_count": 115,
     "metadata": {},
     "output_type": "execute_result"
    },
    {
     "data": {
      "image/png": "[encoded data removed]",
      "text/plain": [
       "<Figure size 432x288 with 1 Axes>"
      ]
     },
     "metadata": {
      "needs_background": "light"
     },
     "output_type": "display_data"
    }
   ],
   "source": [
    "from sklearn.metrics import confusion_matrix, precision_score\n",
    "precision = precision_score(y_test, y_pred)\n",
    "from sklearn.metrics import confusion_matrix, accuracy_score\n",
    "accuracy = accuracy_score(y_test, y_pred)\n",
    "from sklearn.metrics import fbeta_score\n",
    "fbeta = fbeta_score(y_test, y_pred, beta=2)\n",
    "from sklearn.metrics import f1_score\n",
    "f1= f1_score(y_test, y_pred)\n",
    "from sklearn.metrics import cohen_kappa_score,matthews_corrcoef\n",
    "cohen_kappa = cohen_kappa_score(y_test, y_pred)\n",
    "mattherws_corref=matthews_corrcoef(y_test,y_pred)\n",
    "from sklearn import metrics\n",
    "metrics.plot_roc_curve(model, x_test, y_test)"
   ]
  },
  {
   "cell_type": "code",
   "execution_count": null,
   "id": "62628734",
   "metadata": {},
   "outputs": [],
   "source": []
  }
 ],
 "metadata": {
  "kernelspec": {
   "display_name": "Python 3 (ipykernel)",
   "language": "python",
   "name": "python3"
  },
  "language_info": {
   "codemirror_mode": {
    "name": "ipython",
    "version": 3
   },
   "file_extension": ".py",
   "mimetype": "text/x-python",
   "name": "python",
   "nbconvert_exporter": "python",
   "pygments_lexer": "ipython3",
   "version": "3.9.7"
  }
 },
 "nbformat": 4,
 "nbformat_minor": 5
}
